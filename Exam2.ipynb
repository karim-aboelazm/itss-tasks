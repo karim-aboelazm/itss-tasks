{
  "nbformat": 4,
  "nbformat_minor": 0,
  "metadata": {
    "colab": {
      "provenance": []
    },
    "kernelspec": {
      "name": "python3",
      "display_name": "Python 3"
    },
    "language_info": {
      "name": "python"
    }
  },
  "cells": [
    {
      "cell_type": "markdown",
      "source": [
        "# Exam #2\n",
        "----\n",
        "## 1. Write program to count Even and Odd numbers in a List .\n",
        "\n",
        "Input:list1 = [2, 7, 5, 64, 14]\n",
        "\n",
        "Output:Even = 3, odd = 2\n"
      ],
      "metadata": {
        "id": "CH5KqWuECn_W"
      }
    },
    {
      "cell_type": "code",
      "source": [
        "number_list = [2, 7, 5, 64, 14]\n",
        "Even, Odd = 0,0\n",
        "for i in number_list:\n",
        "    if i % 2 == 0:\n",
        "        Even += 1\n",
        "    else:\n",
        "        Odd += 1\n",
        "print(f\"Even = {Even}, odd = {Odd}\")"
      ],
      "metadata": {
        "colab": {
          "base_uri": "https://localhost:8080/"
        },
        "id": "k_2sWPwh-vBA",
        "outputId": "daefc138-7a55-4388-bed8-d1568e89a1aa"
      },
      "execution_count": null,
      "outputs": [
        {
          "output_type": "stream",
          "name": "stdout",
          "text": [
            "Even = 3, odd = 2\n"
          ]
        }
      ]
    },
    {
      "cell_type": "markdown",
      "source": [
        "## 2. Write program that Reverse words in a given String .\n",
        "\n",
        "Input :  I am working on itss\n",
        "\n",
        "Output: itss no working am I \n"
      ],
      "metadata": {
        "id": "YwG3yrOWDNv5"
      }
    },
    {
      "cell_type": "code",
      "source": [
        "stm = input(\"Enter String : \")\n",
        "rev_stm = \"\"\n",
        "for w in stm.split()[::-1]:\n",
        "    rev_stm+= w + ' '\n",
        "print(rev_stm)"
      ],
      "metadata": {
        "colab": {
          "base_uri": "https://localhost:8080/"
        },
        "id": "fB2TfhMbDH0N",
        "outputId": "c80b30c0-beba-4cbe-c695-d24e1eb10142"
      },
      "execution_count": null,
      "outputs": [
        {
          "output_type": "stream",
          "name": "stdout",
          "text": [
            "Enter String : I am working on itss\n",
            "itss on working am I \n"
          ]
        }
      ]
    },
    {
      "cell_type": "markdown",
      "source": [
        "## 3. Write a program to build a simple Student Management System using Python which can perform the following operations:\n",
        "\n",
        "1. Accept : takes details from the user like name, roll number, and marks for two different subjects\n",
        "\n",
        "2. Display : displays the details of every student.\n",
        "\n",
        "3. Search : searches for a particular student from the list of students. This method will ask the user for roll number and then search according to the roll number\n",
        "\n",
        "4. Delete: deletes the record of a particular student with a matching roll number.\n",
        "\n",
        "5. Update: updates the roll number of the student. This method will ask for the old roll number and new roll number. It will replace the old roll number with a new roll number.\n"
      ],
      "metadata": {
        "id": "XWm6Hh8aEz9d"
      }
    },
    {
      "cell_type": "code",
      "source": [
        "class Student:\n",
        "    def __init__(self, name, roll_no, marks1, marks2):\n",
        "        self.name = name\n",
        "        self.roll_no = roll_no\n",
        "        self.marks1 = marks1\n",
        "        self.marks2 = marks2\n",
        "\n",
        "    def display(self):\n",
        "        print(f\"Name: {self.name}\")\n",
        "        print(f\"Roll Number: {self.roll_no}\")\n",
        "        print(f\"Marks 1: {self.marks1}\")\n",
        "        print(f\"Marks 2: {self.marks2}\")\n",
        "\n",
        "class StudentManagementSystem:\n",
        "    def __init__(self):\n",
        "        self.students = []\n",
        "\n",
        "    def accept(self):\n",
        "        name = input(\"Enter student name: \")\n",
        "        roll_no = int(input(\"Enter roll number: \"))\n",
        "        marks1 = float(input(\"Enter marks 1: \"))\n",
        "        marks2 = float(input(\"Enter marks 2: \"))\n",
        "        student = Student(name, roll_no, marks1, marks2)\n",
        "        self.students.append(student)\n",
        "\n",
        "    def display(self):\n",
        "        for student in self.students:\n",
        "            student.display()\n",
        "\n",
        "    def search(self, roll_no):\n",
        "        for student in self.students:\n",
        "            if student.roll_no == roll_no:\n",
        "                student.display()\n",
        "                return\n",
        "        print(f\"No student found with roll number {roll_no}\")\n",
        "\n",
        "    def delete(self, roll_no):\n",
        "        for student in self.students:\n",
        "            if student.roll_no == roll_no:\n",
        "                self.students.remove(student)\n",
        "                print(f\"Student with roll number {roll_no} deleted.\")\n",
        "                return\n",
        "        print(f\"No student found with roll number {roll_no}\")\n",
        "\n",
        "    def update(self, old_roll_no, new_roll_no):\n",
        "        for student in self.students:\n",
        "            if student.roll_no == old_roll_no:\n",
        "                student.roll_no = new_roll_no\n",
        "                print(f\"Roll number updated for student {student.name} from {old_roll_no} to {new_roll_no}\")\n",
        "                return\n",
        "        print(f\"No student found with roll number {old_roll_no}\")\n",
        "\n",
        "student = StudentManagementSystem()\n",
        "while True:\n",
        "    print(\"\\nStudent Management System\\n\")\n",
        "    print(\"1. Accept student details\")\n",
        "    print(\"2. Display all students\")\n",
        "    print(\"3. Search for a student\")\n",
        "    print(\"4. Delete a student\")\n",
        "    print(\"5. Update a student's roll number\")\n",
        "    print(\"6. Exit\")\n",
        "\n",
        "    choice = int(input(\"Enter your choice: \"))\n",
        "\n",
        "    if choice == 1:\n",
        "        student.accept()\n",
        "    elif choice == 2:\n",
        "        student.display()\n",
        "    elif choice == 3:\n",
        "        roll_no = int(input(\"Enter roll number to search: \"))\n",
        "        student.search(roll_no)\n",
        "    elif choice == 4:\n",
        "        roll_no = int(input(\"Enter roll number to delete: \"))\n",
        "        student.delete(roll_no)\n",
        "    elif choice == 5:\n",
        "        old_roll_no = int(input(\"Enter old roll number: \"))\n",
        "        new_roll_no = int(input(\"Enter new roll number: \"))\n",
        "        student.update(old_roll_no, new_roll_no)\n",
        "    elif choice == 6:\n",
        "        break\n",
        "    else:\n",
        "        print(\"Invalid choice. Please try again.\")\n"
      ],
      "metadata": {
        "colab": {
          "base_uri": "https://localhost:8080/"
        },
        "id": "qpkso6cZDcbF",
        "outputId": "16c4b2a7-9f58-4f2b-c2af-1125be5dff48"
      },
      "execution_count": null,
      "outputs": [
        {
          "name": "stdout",
          "output_type": "stream",
          "text": [
            "\n",
            "Student Management System\n",
            "\n",
            "1. Accept student details\n",
            "2. Display all students\n",
            "3. Search for a student\n",
            "4. Delete a student\n",
            "5. Update a student's roll number\n",
            "6. Exit\n",
            "Enter your choice: 1\n",
            "Enter student name: John Deo\n",
            "Enter roll number: 1\n",
            "Enter marks 1: 20\n",
            "Enter marks 2: 25\n",
            "\n",
            "Student Management System\n",
            "\n",
            "1. Accept student details\n",
            "2. Display all students\n",
            "3. Search for a student\n",
            "4. Delete a student\n",
            "5. Update a student's roll number\n",
            "6. Exit\n",
            "Enter your choice: 2\n",
            "Name: John Deo\n",
            "Roll Number: 1\n",
            "Marks 1: 20.0\n",
            "Marks 2: 25.0\n",
            "\n",
            "Student Management System\n",
            "\n",
            "1. Accept student details\n",
            "2. Display all students\n",
            "3. Search for a student\n",
            "4. Delete a student\n",
            "5. Update a student's roll number\n",
            "6. Exit\n",
            "Enter your choice: 3\n",
            "Enter roll number to search: 1\n",
            "Name: John Deo\n",
            "Roll Number: 1\n",
            "Marks 1: 20.0\n",
            "Marks 2: 25.0\n",
            "\n",
            "Student Management System\n",
            "\n",
            "1. Accept student details\n",
            "2. Display all students\n",
            "3. Search for a student\n",
            "4. Delete a student\n",
            "5. Update a student's roll number\n",
            "6. Exit\n",
            "Enter your choice: 6\n"
          ]
        }
      ]
    },
    {
      "cell_type": "markdown",
      "source": [
        "## 4. Write program that swap the first and the last character of a given string."
      ],
      "metadata": {
        "id": "28iOYot2GOuF"
      }
    },
    {
      "cell_type": "code",
      "source": [
        "def swap(stm):\n",
        "    f = stm[0]\n",
        "    l = stm[-1]\n",
        "    return l+stm[1:-1]+f\n",
        "\n",
        "stm = \"object orianted programming\"\n",
        "print(swap(stm))"
      ],
      "metadata": {
        "colab": {
          "base_uri": "https://localhost:8080/"
        },
        "id": "gd4yYNsOFXic",
        "outputId": "fccba83e-a580-4ad9-8632-9ce1e8bddfce"
      },
      "execution_count": null,
      "outputs": [
        {
          "output_type": "stream",
          "name": "stdout",
          "text": [
            "gbject orianted programmino\n"
          ]
        }
      ]
    },
    {
      "cell_type": "markdown",
      "source": [
        "## 5. Write program to implement a calculator to do basic operations"
      ],
      "metadata": {
        "id": "e3Yr3oDOGlWn"
      }
    },
    {
      "cell_type": "code",
      "source": [
        "print(\"Result is : \",eval(input(\"Enter Math Expression : \")))"
      ],
      "metadata": {
        "colab": {
          "base_uri": "https://localhost:8080/"
        },
        "id": "ue8Q8_ceGMMk",
        "outputId": "a925e91f-d13b-4dae-c466-541e0fbaa1c8"
      },
      "execution_count": null,
      "outputs": [
        {
          "output_type": "stream",
          "name": "stdout",
          "text": [
            "Enter Math Expression : 9+1*8-4**2/5%2\n",
            "Result is :  15.8\n"
          ]
        }
      ]
    }
  ]
}